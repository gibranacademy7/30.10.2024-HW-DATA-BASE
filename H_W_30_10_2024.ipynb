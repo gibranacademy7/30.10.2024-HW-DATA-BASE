{
 "cells": [
  {
   "cell_type": "markdown",
   "id": "b4026152-622e-4d1c-9ab7-dc16ff812468",
   "metadata": {},
   "source": [
    "<h4 style=\"color: Tomato;\">Home Work 30.10.2024</h4>\n"
   ]
  },
  {
   "cell_type": "markdown",
   "id": "53134a64-7f3b-4c33-8ca2-1a72b8e0e126",
   "metadata": {},
   "source": [
    "<h2 style=\"color: MediumSeaGreen;\">DATA SCIENCE</h2>\n"
   ]
  },
  {
   "cell_type": "markdown",
   "id": "99b7e80d-6ed8-45a2-8112-0f31f95ee0e8",
   "metadata": {},
   "source": [
    "<h5 style=\"color: SlateBlue;\"><strong>1. What is Data Science?</strong></h5>\n"
   ]
  },
  {
   "cell_type": "markdown",
   "id": "ea2b1f08-0cdf-442f-a0c0-df40b012de2b",
   "metadata": {},
   "source": [
    "<h4 style=\"color: rgb(60, 60, 60); text-align: justify;\">\n",
    "    Data science is a field that combines statistical methods, technological tools, and business insights to analyze data and extract useful information. It involves techniques like data exploration, statistical analysis, machine learning, and deep learning to identify patterns, predict trends, and make informed decisions. Data scientists work across various industries to improve performance, increase profitability, and provide personalized experiences.\n",
    "</h4>\n"
   ]
  },
  {
   "cell_type": "markdown",
   "id": "91fe50b0-3644-482e-90f7-90aebbe9af15",
   "metadata": {},
   "source": [
    "<h5 style=\"color: SlateBlue;\"><strong>2. What is the difference between Structured Data and Unstructured Data?\n",
    "</strong></h5>\n"
   ]
  },
  {
   "cell_type": "markdown",
   "id": "7974cb3b-57d5-4347-8401-4393035e1b57",
   "metadata": {},
   "source": [
    "<h4 style=\"color: rgb(60, 60, 60); text-align: justify;\">\n",
    "    Structured Data refers to organized information that is easily searchable and can be easily entered into a database. It typically includes data in tables, such as spreadsheets or databases, with predefined formats (e.g., dates, numbers).\n",
    "Unstructured Data, on the other hand, is information that lacks a specific format or organization. This type of data includes text documents, images, videos, social media posts, and emails, making it harder to analyze and process.\n",
    "</h4>\n"
   ]
  },
  {
   "cell_type": "markdown",
   "id": "3016aae5-f9e7-42e5-9de2-da9354a3bb16",
   "metadata": {},
   "source": [
    "<h5 style=\"color: SlateBlue;\"><strong>3. What is Exploratory Data Analysis (EDA)?\n",
    "</strong></h5>\n"
   ]
  },
  {
   "cell_type": "markdown",
   "id": "27d11c96-744f-4a82-9a96-cb76520574d4",
   "metadata": {},
   "source": [
    "<h4 style=\"color: rgb(60, 60, 60); text-align: justify;\">\n",
    "Exploratory Data Analysis (EDA) is a statistical approach used to analyze datasets to summarize their main characteristics, often with visual methods. The purpose of EDA is to discover patterns, spot anomalies, test hypotheses, and check assumptions through data visualization techniques like histograms, scatter plots, and box plots. EDA helps in gaining insights and informing further analysis or modeling.\n",
    "</h4>\n"
   ]
  },
  {
   "cell_type": "markdown",
   "id": "a1880377-f3e0-4a5b-86ae-54531533c1a4",
   "metadata": {},
   "source": [
    "<h5 style=\"color: SlateBlue;\"><strong>4. What are two goals we aim to achieve using Data Science in businesses?\n",
    "</strong></h5>\n"
   ]
  },
  {
   "cell_type": "markdown",
   "id": "407d0307-1679-40ff-aabf-30392a41760b",
   "metadata": {},
   "source": [
    "<h4 style=\"color: rgb(60, 60, 60); text-align: justify;\">\n",
    "Improving Decision-Making: Data science helps businesses analyze large amounts of data to make informed decisions, identify trends, and predict future outcomes.\n",
    "Enhancing Customer Experience: By analyzing customer data, businesses can better understand preferences and behaviors, allowing them to tailor products, services, and marketing strategies to meet customer needs.</h4>\n"
   ]
  },
  {
   "cell_type": "markdown",
   "id": "3314af04-3b04-46a5-b0a0-9103e8d7d1d5",
   "metadata": {},
   "source": [
    "<h5 style=\"color: SlateBlue;\"><strong>5. What are Gen-AI Tools?</strong></h5>\n"
   ]
  },
  {
   "cell_type": "markdown",
   "id": "9c385cfc-0de4-451a-a46a-970101b79233",
   "metadata": {},
   "source": [
    "<h4 style=\"color: rgb(60, 60, 60); text-align: justify;\">\n",
    "Gen-AI tools, or Generative AI tools, are technologies that use artificial intelligence to create new content or generate outputs based on input data. These tools can produce text, images, music, and more, often mimicking human creativity. Examples include language models, image generators, and music composition software. They are widely used in various fields such as marketing, design, and content creation to enhance productivity and innovation.\n",
    "</h4>\n"
   ]
  },
  {
   "cell_type": "markdown",
   "id": "3dc0006b-c9a3-4aac-9a41-129604033e52",
   "metadata": {},
   "source": [
    "<h5 style=\"color: SlateBlue;\"><strong>6. Which three Python libraries do we use for working with data?\n",
    "</strong></h5>\n"
   ]
  },
  {
   "cell_type": "markdown",
   "id": "abb3320c-48e0-4659-a264-64925cc0dd97",
   "metadata": {},
   "source": [
    "<h4 style=\"color: rgb(60, 60, 60); text-align: justify;\">\n",
    "Pandas: A powerful library for data analysis and manipulation that allows for working with data structures like DataFrames, making it easy to analyze and manipulate data.\n",
    "NumPy: A library designed for working with arrays and mathematical structures, providing advanced functions for numerical calculations.\n",
    "Matplotlib: A library for creating graphs and charts, enabling clear and simple visualization of data.</h4>\n"
   ]
  },
  {
   "cell_type": "markdown",
   "id": "e14f5b93-0062-40a7-9f0b-5f2f89298db2",
   "metadata": {},
   "source": [
    "<h5 style=\"color: SlateBlue;\"><strong>7. Why is Jupyter Notebook a useful tool in Data Science? What is Markdown? What is the use of ! before a command?\n",
    "</strong></h5>\n"
   ]
  },
  {
   "cell_type": "markdown",
   "id": "70059393-bbd0-4f88-94c0-de885a8814ab",
   "metadata": {},
   "source": [
    "<h4 style=\"color: rgb(60, 60, 60); text-align: justify;\">\n",
    "Jupyter Notebook is a useful tool in Data Science because it allows for interactive coding and data visualization in a single environment. Users can write code, run it, and see the results immediately, making it easier to experiment, document findings, and share insights. The notebook format supports rich media, including graphs and images, enhancing the analysis process.\n",
    "\n",
    "Markdown is a lightweight markup language used for formatting text. In Jupyter Notebooks, it allows users to create well-structured and readable documentation, including headings, lists, links, and images, making it easier to explain code and findings.\n",
    "\n",
    "The ! before a command in Jupyter Notebook is used to run shell commands directly from the notebook. This allows users to execute operating system commands (like installing packages) without leaving the notebook interface.\n",
    "EXAMPLE: !pip install numpy</h4>\n"
   ]
  },
  {
   "cell_type": "markdown",
   "id": "3490e581-ee84-4fa0-b3f4-e12551ff4896",
   "metadata": {},
   "source": [
    "<h5 style=\"color: SlateBlue;\"><strong>8a. Write a cell with Python code that prints the numbers from 1 to 10 in Jupyter:</strong></h5>\n"
   ]
  },
  {
   "cell_type": "code",
   "execution_count": 21,
   "id": "ba168368-a9dd-4a07-9185-18488335e353",
   "metadata": {},
   "outputs": [
    {
     "name": "stdout",
     "output_type": "stream",
     "text": [
      "1\n",
      "2\n",
      "3\n",
      "4\n",
      "5\n",
      "6\n",
      "7\n",
      "8\n",
      "9\n",
      "10\n"
     ]
    }
   ],
   "source": [
    "for i in range(1, 11):\n",
    "    print(i)"
   ]
  },
  {
   "cell_type": "markdown",
   "id": "6cb23078-3dbf-4f8d-9882-02da5f0db910",
   "metadata": {},
   "source": [
    "<h5 style=\"color: SlateBlue;\"><strong>8b. Write a cell and perform an import for NumPy:\n",
    "</strong></h5>\n"
   ]
  },
  {
   "cell_type": "code",
   "execution_count": 22,
   "id": "485024ed-dbc2-412b-a023-0130c717a30b",
   "metadata": {},
   "outputs": [],
   "source": [
    "import numpy as np"
   ]
  },
  {
   "cell_type": "markdown",
   "id": "3b545698-6a61-42fd-9259-ddd9a98544af",
   "metadata": {},
   "source": [
    "<h5 style=\"color: SlateBlue;\"><strong>8c. In continuation of section b, write a cell and create a NumPy array with the numbers 1, 2, and 3:\n",
    "</strong></h5>\n"
   ]
  },
  {
   "cell_type": "code",
   "execution_count": 23,
   "id": "be330525-072e-42b8-b75d-d275f6c9c7f3",
   "metadata": {},
   "outputs": [
    {
     "name": "stdout",
     "output_type": "stream",
     "text": [
      "[1 2 3]\n"
     ]
    }
   ],
   "source": [
    "import numpy as np\n",
    "\n",
    "array = np.array([1, 2, 3])\n",
    "print(array)"
   ]
  },
  {
   "cell_type": "code",
   "execution_count": 24,
   "id": "1c035cd9-b44b-4b4c-869b-0bdb5f2558b2",
   "metadata": {},
   "outputs": [
    {
     "name": "stderr",
     "output_type": "stream",
     "text": [
      "'[Alt' is not recognized as an internal or external command,\n",
      "operable program or batch file.\n"
     ]
    }
   ],
   "source": [
    "![Alt text](path/to/your/image.png)\n"
   ]
  }
 ],
 "metadata": {
  "kernelspec": {
   "display_name": "Python 3 (ipykernel)",
   "language": "python",
   "name": "python3"
  },
  "language_info": {
   "codemirror_mode": {
    "name": "ipython",
    "version": 3
   },
   "file_extension": ".py",
   "mimetype": "text/x-python",
   "name": "python",
   "nbconvert_exporter": "python",
   "pygments_lexer": "ipython3",
   "version": "3.12.7"
  }
 },
 "nbformat": 4,
 "nbformat_minor": 5
}
