{
 "cells": [
  {
   "cell_type": "markdown",
   "id": "b4026152-622e-4d1c-9ab7-dc16ff812468",
   "metadata": {},
   "source": [
    "<h4 style=\"color: Tomato;\">Home Work 30.10.2024</h4>"
   ]
  },
  {
   "cell_type": "markdown",
   "id": "0f88c17e-a06e-4fc8-91f6-365bd1f3502b",
   "metadata": {},
   "source": [
    "<h2 style=\"color: MediumSeaGreen;\">DATA SCIENCE</h2>\n"
   ]
  },
  {
   "cell_type": "markdown",
   "id": "99b7e80d-6ed8-45a2-8112-0f31f95ee0e8",
   "metadata": {},
   "source": [
    "<h5 style=\"color: SlateBlue;\"><strong>1. What is Data Science?</strong></h5>\n"
   ]
  },
  {
   "cell_type": "markdown",
   "id": "ea2b1f08-0cdf-442f-a0c0-df40b012de2b",
   "metadata": {},
   "source": [
    "<h4 style=\"color: rgb(60, 60, 60); text-align: justify;\">\n",
    "    Data science is a field that combines statistical methods, technological tools, and business insights to analyze data and extract useful information. It involves techniques like data exploration, statistical analysis, machine learning, and deep learning to identify patterns, predict trends, and make informed decisions. Data scientists work across various industries to improve performance, increase profitability, and provide personalized experiences.\n",
    "</h4>\n"
   ]
  },
  {
   "cell_type": "markdown",
   "id": "91fe50b0-3644-482e-90f7-90aebbe9af15",
   "metadata": {},
   "source": [
    "<h5 style=\"color: SlateBlue;\"><strong>2. What is the difference between Structured Data and Unstructured Data?\n",
    "</strong></h5>\n"
   ]
  },
  {
   "cell_type": "markdown",
   "id": "7974cb3b-57d5-4347-8401-4393035e1b57",
   "metadata": {},
   "source": [
    "<h4 style=\"color: rgb(60, 60, 60); text-align: justify;\">\n",
    "    Structured Data refers to organized information that is easily searchable and can be easily entered into a database. It typically includes data in tables, such as spreadsheets or databases, with predefined formats (e.g., dates, numbers).\n",
    "Unstructured Data, on the other hand, is information that lacks a specific format or organization. This type of data includes text documents, images, videos, social media posts, and emails, making it harder to analyze and process.\n",
    "</h4>\n"
   ]
  },
  {
   "cell_type": "markdown",
   "id": "3016aae5-f9e7-42e5-9de2-da9354a3bb16",
   "metadata": {},
   "source": [
    "<h5 style=\"color: SlateBlue;\"><strong>3. What is Exploratory Data Analysis (EDA)?\n",
    "</strong></h5>\n"
   ]
  },
  {
   "cell_type": "markdown",
   "id": "27d11c96-744f-4a82-9a96-cb76520574d4",
   "metadata": {},
   "source": [
    "<h4 style=\"color: rgb(60, 60, 60); text-align: justify;\">\n",
    "Exploratory Data Analysis (EDA) is a statistical approach used to analyze datasets to summarize their main characteristics, often with visual methods. The purpose of EDA is to discover patterns, spot anomalies, test hypotheses, and check assumptions through data visualization techniques like histograms, scatter plots, and box plots. EDA helps in gaining insights and informing further analysis or modeling.\n",
    "</h4>\n"
   ]
  },
  {
   "cell_type": "markdown",
   "id": "a1880377-f3e0-4a5b-86ae-54531533c1a4",
   "metadata": {},
   "source": [
    "<h5 style=\"color: SlateBlue;\"><strong>4. What are two goals we aim to achieve using Data Science in businesses?\n",
    "</strong></h5>\n"
   ]
  },
  {
   "cell_type": "markdown",
   "id": "407d0307-1679-40ff-aabf-30392a41760b",
   "metadata": {},
   "source": [
    "<h4 style=\"color: rgb(60, 60, 60); text-align: justify;\">\n",
    "Improving Decision-Making: Data science helps businesses analyze large amounts of data to make informed decisions, identify trends, and predict future outcomes.\n",
    "Enhancing Customer Experience: By analyzing customer data, businesses can better understand preferences and behaviors, allowing them to tailor products, services, and marketing strategies to meet customer needs.</h4>\n"
   ]
  },
  {
   "cell_type": "markdown",
   "id": "3314af04-3b04-46a5-b0a0-9103e8d7d1d5",
   "metadata": {},
   "source": [
    "<h5 style=\"color: SlateBlue;\"><strong>5. What are Gen-AI Tools?</strong></h5>\n"
   ]
  },
  {
   "cell_type": "markdown",
   "id": "9c385cfc-0de4-451a-a46a-970101b79233",
   "metadata": {},
   "source": [
    "<h4 style=\"color: rgb(60, 60, 60); text-align: justify;\">\n",
    "Gen-AI tools, or Generative AI tools, are technologies that use artificial intelligence to create new content or generate outputs based on input data. These tools can produce text, images, music, and more, often mimicking human creativity. Examples include language models, image generators, and music composition software. They are widely used in various fields such as marketing, design, and content creation to enhance productivity and innovation.\n",
    "</h4>\n"
   ]
  },
  {
   "cell_type": "markdown",
   "id": "3dc0006b-c9a3-4aac-9a41-129604033e52",
   "metadata": {},
   "source": [
    "<h5 style=\"color: SlateBlue;\"><strong>6. Which three Python libraries do we use for working with data?\n",
    "</strong></h5>\n"
   ]
  },
  {
   "cell_type": "markdown",
   "id": "abb3320c-48e0-4659-a264-64925cc0dd97",
   "metadata": {},
   "source": [
    "<h4 style=\"color: rgb(60, 60, 60); text-align: justify;\">\n",
    "Pandas: A powerful library for data analysis and manipulation that allows for working with data structures like DataFrames, making it easy to analyze and manipulate data.\n",
    "NumPy: A library designed for working with arrays and mathematical structures, providing advanced functions for numerical calculations.\n",
    "Matplotlib: A library for creating graphs and charts, enabling clear and simple visualization of data.</h4>\n"
   ]
  },
  {
   "cell_type": "markdown",
   "id": "e14f5b93-0062-40a7-9f0b-5f2f89298db2",
   "metadata": {},
   "source": [
    "<h5 style=\"color: SlateBlue;\"><strong>7. Why is Jupyter Notebook a useful tool in Data Science? What is Markdown? What is the use of ! before a command?\n",
    "</strong></h5>\n"
   ]
  },
  {
   "cell_type": "markdown",
   "id": "70059393-bbd0-4f88-94c0-de885a8814ab",
   "metadata": {},
   "source": [
    "<h4 style=\"color: rgb(60, 60, 60); text-align: justify;\">\n",
    "Jupyter Notebook is a useful tool in Data Science because it allows for interactive coding and data visualization in a single environment. Users can write code, run it, and see the results immediately, making it easier to experiment, document findings, and share insights. The notebook format supports rich media, including graphs and images, enhancing the analysis process.\n",
    "\n",
    "Markdown is a lightweight markup language used for formatting text. In Jupyter Notebooks, it allows users to create well-structured and readable documentation, including headings, lists, links, and images, making it easier to explain code and findings.\n",
    "\n",
    "The ! before a command in Jupyter Notebook is used to run shell commands directly from the notebook. This allows users to execute operating system commands (like installing packages) without leaving the notebook interface.\n",
    "EXAMPLE: !pip install numpy</h4>\n"
   ]
  },
  {
   "cell_type": "markdown",
   "id": "3490e581-ee84-4fa0-b3f4-e12551ff4896",
   "metadata": {},
   "source": [
    "<h5 style=\"color: SlateBlue;\"><strong>8a. Write a cell with Python code that prints the numbers from 1 to 10 in Jupyter:</strong></h5>\n"
   ]
  },
  {
   "cell_type": "code",
   "execution_count": 21,
   "id": "ba168368-a9dd-4a07-9185-18488335e353",
   "metadata": {},
   "outputs": [
    {
     "name": "stdout",
     "output_type": "stream",
     "text": [
      "1\n",
      "2\n",
      "3\n",
      "4\n",
      "5\n",
      "6\n",
      "7\n",
      "8\n",
      "9\n",
      "10\n"
     ]
    }
   ],
   "source": [
    "for i in range(1, 11):\n",
    "    print(i)"
   ]
  },
  {
   "cell_type": "markdown",
   "id": "6cb23078-3dbf-4f8d-9882-02da5f0db910",
   "metadata": {},
   "source": [
    "<h5 style=\"color: SlateBlue;\"><strong>8b. Write a cell and perform an import for NumPy:\n",
    "</strong></h5>\n"
   ]
  },
  {
   "cell_type": "code",
   "execution_count": 22,
   "id": "485024ed-dbc2-412b-a023-0130c717a30b",
   "metadata": {},
   "outputs": [],
   "source": [
    "import numpy as np"
   ]
  },
  {
   "cell_type": "markdown",
   "id": "3b545698-6a61-42fd-9259-ddd9a98544af",
   "metadata": {},
   "source": [
    "<h5 style=\"color: SlateBlue;\"><strong>8c. In continuation of section b, write a cell and create a NumPy array with the numbers 1, 2, and 3:\n",
    "</strong></h5>\n"
   ]
  },
  {
   "cell_type": "code",
   "execution_count": 2,
   "id": "10bc830d-1589-4776-b76b-bb27f82cf51e",
   "metadata": {},
   "outputs": [
    {
     "name": "stdout",
     "output_type": "stream",
     "text": [
      "[1 2 3]\n"
     ]
    }
   ],
   "source": [
    "import numpy as np\n",
    "\n",
    "array = np.array([1, 2, 3])\n",
    "print(array)"
   ]
  },
  {
   "cell_type": "markdown",
   "id": "aa5439f7-8328-4ad7-a9ed-78d751841849",
   "metadata": {},
   "source": [
    "<img src=\"data:image/jpeg;base64,/9j/4AAQSkZJRgABAQAAAQABAAD/2wCEAAkGBxMSEBUQExMWFRUVFRUXGBYXFhgZFRsZFRcZFhcYFxgYHCkgHh0lHxUYIjEhJiktLjIvFx8zODMsNygtLysBCgoKDg0OGhAQGi4mHyMtNy0xKys3Ny0wLS8rNzctKy0tLy0tLy0rLSstLystLS0vLTUtLS0tNy0tLTgvLS0rLf/AABEIAOQA3QMBIgACEQEDEQH/xAAcAAEAAgIDAQAAAAAAAAAAAAAABQYDBAECBwj/xABMEAACAQIDAwQNCAgGAgIDAAABAgMAEQQSIQUTMQYiQVEVMjNTYXFydIGTsbPTBxQjNWWRlLQWNEJSVHOh0SRigpKi0sHCg8NDo7L/xAAaAQEBAAMBAQAAAAAAAAAAAAAAAQIDBQQG/8QAJxEBAAIBAwQCAgIDAAAAAAAAAAECEQMTMQQSIVIFoUHwUYEiI7H/2gAMAwEAAhEDEQA/APbMN2i+SPZXdmAtcgXNh4T1D7q64btF8keytHbB5+Hvw+cDX/4pAP62HpokcN0YhLsMy3UXYXF1GurdXA/ca1l2zhi2QYiEtcjKJEzXHEWve+lUzEMoxGPxFxumUROw7XIyyJn/ANMqEX6A71J7N3h2ZeTJZoxlCg5hnfXMSbdPQKKtJxCZc2ZbddxbS99fQfurocdFvNzvE3lr7vMM9uvLe9qomM5mCmw5PbSyyxX6VkldZFHXlZmNugSLUuHaGFpFkw8gSQvlKEyySscypm3nNlIYKNDxWwtpQWd8QgGYsoGupIA046+isUe0YWICyxsSbAB1JJ1NhY8dD91U7HtN82gBSLI0zhDnYsS4ly5hksBrrYn01O43BB3w6Sxx6vLmVRde5tbiB1/fQT1dWcCwJ48PD06fdUfsOUlXjJLbqRow5NywADC56SA2UnrQ02qwEuGJ4CVz90EtBvvKoBJIAAuSSAAOs9VYXx8QYKZUDMAVUuoJB4EC+t6rsskc20E1DQvDDIL9o7rvmjXXicr57f5FPRWngJgj4m2GaeEKAuURlN2JcRoFJuVGYgBVOg0vpQXQyDXUacdeHjrvVK2SRvckrgwg4cq4OaOSURRlFaQ9A5hW9sxIPEWq60ClKUClKUClKUClKUHFK5pQcUtXNKDi1K5pQY8N2i+SPZULyhxTbxYPoBG0MssjTqXQCJolsRmUW+kvcn9mprDdovkj2VBbZwgmxiREkB8HiQSOOsuG4WpKRw1YcYxvGuJ2ebqFKiJrZeAW2+4c7h/m8Nd02g7RrbF4Axucq2RihOnNH01r6jTwitnEcl0aQvvJBd1bKWZl5qIg0Y9taPt+NmYa6W1Y+R97byYnLEsI3YaMFEtlLgOczaC99DZdBaiu88suQO0+BKKRZjC5AaQDLY77QsHHjD+GsTysLYgz7PBBEYkMLBgSLhA2+vexvbqNbC8mLQvEsts0sci6SEKIsoRNZcx0QC4YeACudo8mmlOczWa0bc1WC71GQ7wWkDglUCWD8OmgwSSO8dmnwDR5gtjCxXMy3C2M1rlWvbqbw1rnBKAq5tmgOyZRuCMzMDkt9LqSCbeOtubknnfeNMcxkSR7JzWaNVRdGYkEAHW5Jza3sKx4bkeY7COcqFRI15uqomVrIQwtzkuOIscpBAFBIQYTFooRHwqqOCrBIAPEBLXXF7PxUq5ZDhHW97Nh3YX67GWpylBXxsifIY7YLIxzFPmz5ST0ld7YnQa+Cs8eFxi8Hwo0A0gkGg4DuvAVM0oIT5li8pTNhMrXuu4ksb8bje61lEWN75hvUyfGqWpQV2DamJcpEu5EhfEKzFHKWgcLzVDggnMOLHhW5usb33Depk+NUbsr9ZT+btD3qVaKCJ3WN77hvUyfGpu8b33Depk+NUtSgid3ju+4b1MnxqbrHd9w3qZPjVLUoIndY7vuG9TJ8am6x3fcN6mT41Ztpbahw5+lYqAuYnIxUC9hmZQQLnQX4msD8o4FJzbxLC5LQyAC97XJXQnKbDp06xQc7vHd9w3qZPjU3WO77hvUy/GrkcoILkHeLZcxLQTIFU3szFkFgcp1PVXaPb0BfdgvfmcYpQv0hypziuXU6ceIPUaDHucb33Depl+NXO6xvfcN6mX41S1KCJ3WN77hvUyfGrLsbFyPvUlyZopd3dAQp+jjkBsxJHdLcTwqRqJ2J3XGecj8vBQSWG7RfJHsqLn+sYfNcT73DVKYbtF8keyouf6xh81xPvcNSUjhMUpSilKUoFKUoFKUoFKUoFKUoKvsr9ZT+btD3qVaKq+yv1lP5u0PepVooFKUoFKUoK5ykw8LSqJEzGRDFm5pMau6xh1DA87PKnoueix0MTsjC/NZcSwc7lZVzBYkcLAZYnVAFCAEGQa6ag6HWrBt7AiWF7Bc4XmsQ2lmWT9hlbjGp0YagVVY8Y0X0BhVxMIzIwLiI785mXK8rMG5zEkCxvc0HTHbRwmc82SMrAqhYtwVZA6lcj2NiDKraEcOm1bq7fwndJHZmCjnO0OZxAxkTmKRZiWawKqdOANcRSRT4afEzQRvIlmYg3QlUGXnKzWyg2a2tujW1a2yZ1kxQjeBHWRnjEwaRkZN3K8m7DMQisVQgA2OZuNgaC+UpSgVE7E7rjPOR+XgqWqJ2J3XGecj8vBQSWG7RfJHsqLn+sYfNcT73DVKYbtF8keyouf6xh81xPvcNSUjhMUpSilKUoFKUoFKUoFKUoFKUoKvsr9ZT+btD3qVaKq+yv1lP5u0PepVooFKUoFKUoNLbe8+by7kkS5DkIAYhug5TobdVVTaJ2kGlVWbPcbtkiUw2ZBnzXFyFJXLrcnNxF7XilBSPnuPO9ssoZnIWIxrkWO1mZZQtswYG1y1wQcvTW/s+fGiWKORbqZHDEAm0aCVVJYRBLt9EeKm/BbVL7EkLI5uSu+mykknQSEaE9FwwHgtbSpGgUpSgVE7E7rjPOR+XgqWqJ2J3XGecj8vBQSWG7RfJHsqLn+sYfNcT73D1KYbtF8keyoyf6xh81xPvcPSUjhlk2/hVYq2JhBUkEGRbgg2IIvxBrr+keD/AIqH1qf3qq7Sh3eJmToL7xfFKAx/57ysNFXD9I8H/FQetT+9P0jwf8VB61P71T6UFw/SLCfxUHrU/vWbCbYw8rZI54pGsTlSRWaw4mwN6pNQ2Gm+b7Uik6GkjJ6rSgwN93bGg9S2hjd2BZc7ucqINCzcePQANSegDp0B1hsx5BeeZyT+zE7RIPAChDnxlteocKww4qP507yMFbOMNCD0ndid8vhbW/ghFSeKxiR5c7Bc7hFv0s3BR4TY0GiNhRrqkk6N0N84mf8A4ysyn0g1kwWKcSbia2exZHAssijQ6dDi4uOGoI4kCRqN2+tot7+1CyyA+I2Yf6lLL/qoJKlcZhXNBV9lfrKfzdoe9SpnE7bw0bmOSeJGFrqzqGFxcXBPUQfTUNsr9ZT+btD3qVp8pIsmMJ6JY1YeUhKP/Qx/dQWD9I8H/FQ+tT+9P0jwf8VB61P71UL0oLf+keD/AIqD1qf3p+kWE/ioPWp/eqfSgukG3cK7BExELMdAqyIWJ8ABvXG2ZmypChKvM+QMOKjKXdh4Qqtbwla8s26xixEeIHEZW9MDhwPSGI9FeqbQhMixzRWLRsJFBNgwKlWUnwq5sesLQZ2aPDw9CRxqALdAGgAA1PQAOJrTSOebnM5gQ8EUIZf9bMGUeSo0/eNdMdKrYhRIwWOFBK2Y2XO7FIrk6aZX06yp4gVJ4nEJGhkdgiKLszEBQB0kngKDS7FHiMRPfrzg/wDErl+8Vxh8VJHIIZiGz3EcoFgxFzkdeh7AnTQ2PDhUmDWrtPCb2Jo72JF1bpVl5yMPCGAPooNqonYndcZ5yPy8Fay8q4Uw8c84kiVxHzmjfIDJYDnAEWu3Hh01s7E7rjPOR+XgoJLDdovkj2VGT/WMPmuJ97h6k8N2i+SPZUZP9Yw+a4n3uHpKRwiOV8OXERydEkbIfHGcyD7nk+6omrNyzhvhxJ3qRG9DHdt9wkJ9FVmilLUvSgVBcqYbhHGhuyX6swzA+gp/Wp2tHbcWbDydJUZx40OcD05bemgtuytqRgrJKyouLWOaNmIA3u7CSRgnQMAqkDibv1GrHo1joekdPpFU3kIqYnAGF9dzK6gg2IvaRCpHCwkt6COF6x4sx4edoJMJBOAiOJBHGkhDs62ZSuQkbviCvHhWN71pGbT4ZVrNpxELZiNqRI6xlruxACLzm1NsxC6hRfVjoK19u2dVw1r75gCDqN2pDSkjqyjL43WoWLlGqLlhwTR+BjEif/qZj/SuvJ7aTtizvmDNKmVCBYLkuxjQX4MOd1nIbngBqjqdKbRWLeZbJ6fUis2mPEIz5U4Vw2Ghkw6JFJ84Uh0RVYZUdxqova6i46eBq9bNxO9hjl4Z40f/AHKD/wCaony1tbCwdW/b+kMlXjYyZcNCvC0UY+5QK3tKD2V+sp/N2h71KyctIdIZf3ZCjHqWRT/7qg9NY9lfrKfzdoe9SpTlNhy+ElAF2C51H+aMiRf6qKCn0rhWBAI4HUemuaBSlKCK5RxXhDfuOp9B5h/o9/RV75D4ve4CEniimM9f0RMd/SFB9NVTFQ7xGjPBlK/eLVufJVjSUmhPEMklvLXIw9Bj/wCVBZdohExCtKF3cyCJi1sudGLxA301zPqekKOJFSk0KupR1DKwsVYAqQegg6EVjx+ESaNopFzIwsR/UW6iDYg9BFUiKeOKSSMw7yNJGRXifdSc2wOZEKoxDZhcFeHC9YX1K0jNpwzpS15xWMrvjcZHChkkYKo6T7AOJPUBqax7Txe7haQamwCD95n5qKPGxA9NV6Ha2EjOdMNIZAOOQGTxbx2/9qybGx74rFEyAKsSq8aA3szF0LOek24AaC54mxGMa2nM9sTGVnSvEZmPClfKtigiYfZ4N1ghDuOs5d3H/wARJp/mFX/kgrBZg/biWINfjmGEw+a/pvXnWycMdpbbkkYXiSVpG6t3CRHCP9RVTbqz16dsTuuM85H5eCtrWksN2i+SPZUXP9Yw+a4n3uHqUw3aL5I9lRc/1jD5rife4akpHDe2phN9BJDw3iOl+rMCL/1rz7DSlkViLFlBI6iRqPQa9LqjYnYWIWSQJFmQyOykOo0di9rMRa2Yj0UVok1xnHXWtjMC4nyTxWyxqyKxVgSzMGawJFwFUa8Mx66fMYu9R/7F/tQbQau1QmOMUUqNu05qO4Cqc5Ist1CISbBiPG6jiRW5BjZSAZMNJDe1hJo3OYotwtyLldL2vcW6bBt/JlPu8TPhidMug/kuUv6VdT6Ky4/EtLjJJr8xooRGOpA0xDeNrhvEy1HbM2PLLjg6r9Ce7sroVClMjxsegkBbqOcBe+W4Jw46WTFzTGPOseYM27TOTFYIva3KAog0tfnEjhXk62Jtpdsfl6ukmK6ndP4SksyqCSbBePg6a1ELIjT2s4bfAdIKAFV+5AD4zUTDMikCLDyGNWXVV1ZwFAdsxBIVcpBPG3WAKlcJinkRhJC0RCi92VlNwbgEG5sLXuBxribc6WJj+XX741ImJb/ysKJRgYRrvp7DxOFj/wDtFehgW0rzvFD5xtTZcHHcYb5w/wDqACHx541++vRa+mfPKvsr9ZT+btD3qVZyKrGyv1lP5u0PepVooPN4I8gMfe2eP0RsVB9IAPpruTUttjY0/wA4kkjjzpIVa+dVIYKEYWY/5AfSag9p4CQPGs8WVDnNiyMrMuXKCFJva5Nj0qD0UGbMOuuMwrW+Yxd6j/2L/asTbKEkkUccUeYuW1CpfdqXADBTrcA/6TQb960uSM+42sY/2Zd4v+9d+D96Oo8dTHYTF95X0Sr/AOQKidpbExUU8WL3QG7aO/0iFmKyAqqgG5JzMtuOooLzym2t83gZlF5CDkHEXA1YjqFx4yVHFhVLwMJSNVJzMBzmPFmOrsbdJYk+mtnamKaaU5tSGGe2qgqbpCp4HIec7Di9v3LDreuH8lrxa0Uj8f8AXZ+P0e2s3n8hFYNjbR+bxYvE/uwOy+EtK4iHp5v30xs2WNiONrDwsdFH3kVG4rBb7c4BeGJnjjb+Rg0Mkh8eaQDxpWPxtZ3M/v75X5CY28LP8lGxNxghMw5+ICtrx3YFoh6QS3+urBsTuuM85H5eCpRFAAAFgBYDxVF7E7rjPOR+XgrvOKksN2i+SPZVY5TYmWPHQNEyg/NsQDmQuLb3D9TrarPhu0XyR7KgeUcSSTxRHCpO+7lcM8m7CorRBgGCk6lkNuHNrKsxE+WPnHhoHbWL75D6h/jVx2bxffIfUP8AGp2GW1+x+HtYH9abgeB7nwrq2yFHHAYca21xZ49Xc+Oo0rduaXp9sOy/s0dqvPiMpd4gyG6ssLBrG2ZdZTdTYXHgB4gVq/NJe+p6k/EqX7FJdh8ww117YfOzcaX1+j001ru2xlFwdn4fS1/8U2l9Bf6Ppsfuq7ml6fZ2X9lexeyJZAPp8jDg6RkMOsd0IINuBHQOkCucDseSMsTKshYg5pIecLAjisgPT03qbbZ8QYKcFhQxvYfPDc5e2sN3rbprudlIOOAw2gv+tnha9+59WtTc0vT7Oy/sizgWsV+hs17jcvY5u2uN9rfpriPZpXVdypAIBWFwQCbkAibS51qYXYoN7bPgNjY/4ptDx1+jrt2C+zoPxLfDpuaXqdl/ZBtsk5bAxra1isculjfS89uiu0uz5WUrvlFwRcQm4uLafSVNdgvs6D8S3w6dgvs6D8S3w603p015zbTba6mtWMRdFYDDTQ4mTFLKheRI47GFsqpGAAEAlBF7Am5OtS3ZbF98h9Q/xq47BfZ0H4lvh07BfZ0H4lvh1u3NL1au2/8AKOw+KmAidWQSGXH3JjJXWVeCZwR0ftGt/stjO+w/h3+PWdtlsY1iOz4MiFmUfODoWN2N91fUm5rF2C+zoPxLfDrCt6RzVZraeJdey+M77D+Hf49aW1JsTiEyPJFoQysMOwZWHBlO+46kdRBIOhrf7BfZ0H4lvh07A/Z0H4lvh1nuaXqnbf2QXzObvyeob4tYMXsqWRcpnC9IZYmVlPQVO94+0Eg3BNWPsD9nQfiW+HTsD9nQfiW+HTc0vT7Oy/srGC2RNGSTid7cWtJDceMZZAb1tnAuSGJhupup3D3BIIJB3+hsSPTU52B+zYPxLfDp2B+zYPxLfDpuaXp9nbf2QK7LIFhuAOoQP8euG2UxFs0Y8Ucul+kfT2vU/wBgfs6D8S3w6dgfs6D8S3w6ndo+i/7fZAdiZCtjKpYG4cxyZgb6WXfZLW07X+utZMFs6aKePELMhaKF4lBgOX6R947kCW+dje5vbU6VOdgvs6D8S3w6dgvs6D8S3w6xrsV4os7s82dey2M77D+Hf49SHJGR2GJaQgucTqVUqO4Q2spY20t01o9gvs6D8S3w6l+TQQJJGsKwmOUq6q2ZSxRHzBrAnmuvEdFL2pMf4xgrFo5lKYbtF8keyojGpmx8a9eExQ++TD1L4btF8keyouf6xh81xPvcNWqWUcIuLkcsQiMQRskcaMkmbI4jBCi5zZUUsWVbEA+O9a45EsAo3qSKJRK0Tod2zBFjyg3OVcotax7VT13ulKKpX6Eybtx85Od0dblQQBJnDDnAlhaRhqb+EVLbS5MpNI0rHnGOFAdf/wATyPdgDZhdwQDwK3FT9KCnxci2FyZgLiFSqxjI25KkM9yWzHLclSNbcQNddOQbA3345iKsZKG4CwmGz87nDKSp4HLbp1q8UoILYWxpcOGG8RiVRb7uxYrvCXexuWYuCdf2TwzaTaXtrbp4ePSu1RfKbF7rCSvfKcuUHqL8wN6M1/RQdcdyghizXJYpluFsdWZltqQLjduT1BDWjyf5a4TFswjnjGoCKxySMMqknI9jxJXh+ya8/wCVOKEGAK8CwbTpGe8At6FxbDyqpezoUK7twCDxuOk6nW4049Bq1jM4WIzOH0xSvn7C7VxOE7jiJol6FJEkR8kG6j/aKsWy/lWxCWE8Mco/eQmNreScyk/7aTWY8STGHr9Kp2zPlKwEts8hgPSJlyqPHILp/WrZh8Skih0dXU8GUhgfERpURlpXGYXtfXqrmgxzTKlixtdgo8bGwFak22YEDFpAMjZG0JIaxbLYC5Nh0VG8psYhRoWE6gKZd7EIzlWIqWYZj0ZgOF9dKr8ODwU8xi38zyu5Ga+W7RCRC3NsvA2BAvzAb8TQXDCbbglfdoxZrX7R7W11LFbfssOPEEcRR9uYcZ7yAbtgrixzAk2HNtc6g6i40PUarw2vhNnySRl5WcuEykXN3aTEg52IGUHEhSzNoSgJuddLHYnD77PJNLCVkOQhYjkfFbsMGILhhllU3tlAYm5K6Baf0iw/7znnFbiGUglSQxUhLMoI1YXA0udRUtXnGJTDRxuigsu8k1aOBnBa5dVD85iN4degREm4FjdNkbRWQvEFZTFlGpVrg3Cm6k2Jy3sdbFSRrQSdKUoFROxO64zzkfl4Klqidid1xnnI/LwUElhu0XyR7Ki5/rGHzXE+9w1SmG7RfJHsqLn+sYfNcT73DUlI4TFKUopSlKBSlKBVV5dSMViiVS12LnQ5TlGUIx4DNnIF+m1WTGZ92+7tvMrZM3a5rc3Nbova9VJZcRJKUeZo2KyBQeYobKGVNBfW/HjaFrWzGg835ezZ8RHhVNwhvc/uxfQofSY3b/5qjcZIIUIjsCRe5JJB6xbS2nQeiu/LDDbnFqiyCSXIu8CkOqEBkVA4AN8qRsem7+GwkeT8aPjMKsptGJS7l20G6jaUZrsbaoL628FbaTisy2U8RKw8juRGHOX5/IZcSwDbi7AIGGZd5k4sRxBNuixtc2navycYCZLJFuGto8Jy/evat6R6a0ItqDsnLjkOeJ4I4bZlXubO4fnlbauRYjhrfWrnsvaKYiISxm6ksOjQqSrDQkaEHUEjqrU1vn/lZsCTZ826lIKsLxyAWVxwOnQwuLjXiOuovDYl4SZIneNuN42Kk268p19NeyfLJhlbZwcgZkmiKeNjlP8AQk+gV5FsLANNioYrklmvlBCA5AXC3JuMxULx/aoPZdiHGjDrMojllYLHJLK2UgQLlJCKAGvKZf2l0IOtZIsajyrFiHmkZ2AypLFkF9NY8O4fJ1lwwHSbVL4Hk7h0jRTGshVQM0l5CTbUjOTa51066lYolUWUBR1AAD+lBqS7JhZcmQBd08IVdAI3tmUAcO1Fa0fJyBWzKpH0m8IDHKWzZwSPAwB06ql6UEdjdiQyhw6nnyLISGIOdFVFI6rBF04aVibk7hybshZt4smZiSxZVVRc9IsoFuFS1KDQwmx4YkyIpC2cWzMdJDmbUm+pNbWHw6oMqiwuzeliWJ+8mstKBSlKBUTsTuuM85H5eCpaonYndcZ5yPy8FBJYbtF8keyouf6xh81xPvcNUphu0XyR7Ki5/rGHzXE+9w9JSOExSlKKUpSgUpSgGvHuVOMaPDYgyEnnvZTcrnGhYK3QXmSQafsV7DXnfyi8i8Ti2VsOY8pdSysSvahyWza3uWtw/d6BcB5PgYTGl0UMcoumW4NrXKnKR1jo6PTjixm8ZXkjDhHUmKS5Q5Dmym/7J4emp7Gcncfhb58LIB++irKp8PMzW9Nqr8qhmJPbDieDDx/2rKZ8YZTPjD3jk1PgsXEHwjGFgLMkZyOh6ni7U+AlSDxBqw4aBII7A2UEsWY6ksSzMzHpJJNfMiqykMG1HA2sw8TLa33VcuRLvKsm+G8yyCzO7SEXQaDONBcX9Jrz6+rtUm+Gejpbl4rlN/KrtVsREohGbDxPndx0tYqCB0xrmN26yDwF6jPk5wiSJMY4i+JuyBiQEEf0MmhY9uGTQDgXUmwN6szICLEXvxvW78nGzosPvYk0KnMo6MkjM179dxlPgiTrry9J1u9aa2jE/h6eq6ParFonwsuwMA8EOR2zG44XygKqoAt+Ast/GTUlSldB4SlKUClKUClKUClKUConYndcZ5yPy8FS1ROxO64zzkfl4KCSw3aL5I9lRk/1jD5rife4epPDdovkj2VGT/WMPmuJ97h6SkcJelKUUpSlApSlApVM5Q4nGxYlUTEAJKy5BkTmhpIorElCTrLfj0V2xHJ3HO+dsY17AWV2RdCTfKigX14+AdVXCZWnHYNZozG40YdBsR4QRqCOg1UsdyJY358WIBN8uKiVjewW+9UZwbKBpbhQ8mMb/Fv6+X/rXH6M47+Kf8RL/wBKYMqxtLkHzlAwssWpzGCXeqeabZUlJKjNbUsNL6Vm2RsI4KSeAyCS0i84Ll4xq1rXOvO43qxJycx6kMMU1wb6zuw9KtEQR4xUbGsgeUStmkErZjpqdLcFX9nL0Cuf8nOND+3u+PjOt/TJW7yefLjEt+1HIp9GVh//ACfvNaVMHhJpcQiwS7pkV3L5VbTRALMCNcx/21yehzv1dPrMbNsvQ6VSthS42TEFGxd1idsw3cfOCStGRogIvk430v4KutfTTGHz0TkpSlRSlKUClKUClKUConYndcZ5yPy8FS1ROxO64zzkfl4KCSw3aL5I9lRk/wBYw+a4n3uHqTw3aL5I9lRk/wBYw+a4n3uHpKRwl6UpRSlKUClKUFS5WfreG8qL83h6ttVPlX+t4bxxfm8PVsrO3EMY5kpSlYMiqvyn2OGlieN93JNII20zIwVHe7LcG+WMi4I0sDewtaKjscL4jDjqMrekJl9jmsbUreMWjwyraazmJQC8m8TexeEDrGc/8bD7r1IclsGsMUju13EkqySNYDLE7hPAq5dbf5ibnjVgqvy4IynEwhspEqyKCLqc0ShS46QJFZrdJQX0vWrS6bS05zSGzU19TUjFpVvYm0ZpMVOuERSS015JNFAOIkYHLx4Hx8NLG9T+w0LTyRzSzyywlWLH6KHnC4VI42sQOtxr0Vqcj4QmImRb2BnFySSf8VJqSdST11p8puWL4DHSRrgsRiQ8UL5oVLBdZFymynXm3r025aIWTljini2fiZI2KusMhVhxBymxHhrzP5NeUUkWLTCu7PDMSoDMWySWLBlJNwGtlI62B672PbXKlsXsuf8AwWKiaSCXR4jzbA2J+69ecbBJ+eYYjj85gt61axV9EUpSgUpSgUpSgVE7E7rjPOR+XgqWqJ2J3XGecj8vBQSWG7RfJHsqMn+sYfNcT73D1J4btF8keyoyf6xh81xPvcNSUjhL0pSilKUoFKUoKjyqcDGYYEgEmKwJ1P8AioOHXVuro0YJBIBI4G2o8RrvVmc4SIKUpUUqO2gbT4Y9byL98TN/61I1ilgVirEXKEsp6iVKk/cxHpoMtRrDLjAe+wkemF7j+kzfdUlXUoCQbajh4PFQVTku4OLxABBIae4vqL4qS1+qpXCLMMdMxjtE0cYV7jUx3I08O9YW0tuxxzaSqRgEkAAnjYcfHXerM5SIw6TxhlZTwYEH0i1eEcg9wmNWTETRxphrk5mF2kAKKoXibG7G3DKvXXvVRT8mcEWLnCYcsSSWMMZJJ4knLqTUVEYj5RtnrwlZ/JikP9ctq03+VHBjhHiD4kQe1xVk/RvB/wAJh/Ux/wDWn6N4P+Ew/qY/+tBWl+VLB96xA8OSP/xJVl2byhw+Iy7qTNmAIADXsRfUW06jfgRbjT9G8H/CYf1Mf/Wt/D4dI1CoiooFgFAAA6gBQZaUpQKidid1xnnI/LwVLVE7E7rjPOR+XgoJDDHmL5I9la2O2WksiylpEdFZQyOVOVypYG3HVF+6lKspHDF2GHf8R6007DDv+I9aaUqKdhh3/EetNOww7/iPWmlKB2GHf8R6007DDv8AiPWmlKB2GHf8R6007DDv+I9aaUoHYYd/xHrTTsMO/wCI9aaUoHYYd/xHrTTsMO/4j1ppSgdhh3/EetNOww7/AIj1ppSgdhh3/EetNOww7/iPWmlKB2GHf8R6007DDv8AiPWmlKB2GHf8R6007DDv+I9aaUoHYYd/xHrTTsMO/wCI9aaUoHYYd/xHrTTsMO/4j1ppSgdhh3/EetNbOz8AsIYKWJds7M7FmLZQtyT4FUeilKD/2Q==\" alt=\"Italian Trulli\">\n"
   ]
  }
 ],
 "metadata": {
  "kernelspec": {
   "display_name": "Python 3 (ipykernel)",
   "language": "python",
   "name": "python3"
  },
  "language_info": {
   "codemirror_mode": {
    "name": "ipython",
    "version": 3
   },
   "file_extension": ".py",
   "mimetype": "text/x-python",
   "name": "python",
   "nbconvert_exporter": "python",
   "pygments_lexer": "ipython3",
   "version": "3.12.7"
  }
 },
 "nbformat": 4,
 "nbformat_minor": 5
}
